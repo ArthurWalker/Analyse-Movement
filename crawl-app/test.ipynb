{
 "cells": [
  {
   "cell_type": "code",
   "execution_count": 10,
   "metadata": {},
   "outputs": [],
   "source": [
    "import pandas as pd \n",
    "import requests \n",
    "from bs4 import BeautifulSoup\n",
    "from urllib.parse import urlparse, parse_qsl, urlunparse, urlencode, parse_qs\n",
    "import os \n"
   ]
  },
  {
   "cell_type": "code",
   "execution_count": null,
   "metadata": {},
   "outputs": [],
   "source": [
    "import time \n",
    "for i in range(100):\n",
    "\tif i % 10 == 0:\n",
    "\t\tprint('sleep 5s')\n",
    "\t\ttime.sleep(5)\n",
    "\telse:\n",
    "\t\tprint(i)"
   ]
  },
  {
   "cell_type": "code",
   "execution_count": 2,
   "metadata": {},
   "outputs": [],
   "source": [
    "url = \"https://trafficdata.tii.ie/tfmonthreport.asp?sgid=XzOA8m4lr27P0HaO3_srSB&spid=256365229484&reportdate=2021-10-27&enddate=2021-10-27\"\n",
    "document = requests.get(url, timeout=30)\n",
    "html_doc = document.content\n",
    "soup = BeautifulSoup(html_doc, 'html.parser')\n",
    "\n"
   ]
  },
  {
   "cell_type": "code",
   "execution_count": 40,
   "metadata": {},
   "outputs": [],
   "source": [
    "import validators\n",
    "site_eles = soup.select(\"ul.dropdown-menu li>a\")\n",
    "res = []\n",
    "for ele in site_eles:\n",
    "\thref = ele['href']\n",
    "\tif validators.url(href):\n",
    "\t\tparsed_url = urlparse(href)\n",
    "\t\tquery = dict(parse_qsl(parsed_url.query))\n",
    "\t\tquery.pop('reportdate', None)\n",
    "\t\tquery.pop('enddate', None)\n",
    "\t\tnew_query = urlencode(query)\n",
    "\t\tnew = parsed_url._replace(query=new_query)\n",
    "\t\tnewUrl = urlunparse(new)\n",
    "\t\tres.append(newUrl)\n",
    "\n",
    "with open('./list-url.txt', 'w') as f:\n",
    "\tfor i in res:\n",
    "\t\tf.write(i)\n",
    "\t\tf.write('\\n')\n"
   ]
  },
  {
   "cell_type": "code",
   "execution_count": 41,
   "metadata": {},
   "outputs": [
    {
     "data": {
      "text/plain": [
       "376"
      ]
     },
     "execution_count": 41,
     "metadata": {},
     "output_type": "execute_result"
    }
   ],
   "source": [
    "len(res)"
   ]
  },
  {
   "cell_type": "code",
   "execution_count": 42,
   "metadata": {},
   "outputs": [
    {
     "data": {
      "text/plain": [
       "376"
      ]
     },
     "execution_count": 42,
     "metadata": {},
     "output_type": "execute_result"
    }
   ],
   "source": [
    "len(list(set(res)))"
   ]
  },
  {
   "cell_type": "code",
   "execution_count": 39,
   "metadata": {},
   "outputs": [
    {
     "name": "stdout",
     "output_type": "stream",
     "text": [
      "https://trafficdata.tii.ie/tfmonthreport.asp?sgid=XzOA8m4lr27P0HaO3_srSB&spid=256365229484\n"
     ]
    }
   ],
   "source": [
    "from requests.models import PreparedRequest\n",
    "url = \"https://trafficdata.tii.ie/tfmonthreport.asp?sgid=XzOA8m4lr27P0HaO3_srSB&spid=256365229484&reportdate=abc\"\n",
    "parsed_url = urlparse(url)\n",
    "query = dict(parse_qsl(parsed_url.query))\n",
    "query.pop('reportdate', None)\n",
    "query.pop('enddate', None)\n",
    "new_query = urlencode(query)\n",
    "new = parsed_url._replace(query=new_query)\n",
    "newUrl = urlunparse(new)\n",
    "print(newUrl)\n",
    "# req = PreparedRequest()\n",
    "# req.prepare_url(url, params)\n",
    "# print(req.url)\n",
    "\n",
    "\n"
   ]
  },
  {
   "cell_type": "code",
   "execution_count": 16,
   "metadata": {},
   "outputs": [],
   "source": [
    "def _get_siteId(soup):\n",
    "\tsiteId_ele = soup.select('div#content #subtitlebar span')[1]\n",
    "\tsiteId_text = siteId_ele.text.split(\":\")[1].strip()\n",
    "\tsiteId_text = str(int(siteId_text))\n",
    "\treturn siteId_text\n"
   ]
  },
  {
   "cell_type": "code",
   "execution_count": 18,
   "metadata": {},
   "outputs": [],
   "source": [
    "def _get_monthly_data(soup):\n",
    "\tlist_tr_element = soup.select(\"table#gridTable tr\")\n",
    "\tcontent = []\n",
    "\tfor i in range(1, len(list_tr_element)):\n",
    "\t\ttr_element = list_tr_element[i]\n",
    "\t\tif i == 1:\n",
    "\t\t\t# header \n",
    "\t\t\tths = tr_element.select('th')\n",
    "\t\t\tfor j in range(len(ths)):\n",
    "\t\t\t\tcontent.append([ths[j].text])\n",
    "\t\telse:\n",
    "\t\t\ttds = tr_element.select('td')\n",
    "\t\t\tfor j in range(len(tds)):\n",
    "\t\t\t\tcontent[j].append(tds[j].text)\n",
    "\n",
    "\t# convert content to pandas dataframe\n",
    "\tdf = pd.DataFrame(content)\n",
    "\tdf = df.transpose()\n",
    "\tnew_header = df.iloc[0]\n",
    "\tdf = df[1:]\n",
    "\tdf.columns = new_header\n",
    "\n",
    "\tdf.index = df['Time']\n",
    "\tdf = df.drop(columns=['Time'], axis=1)\n",
    "\treturn df"
   ]
  },
  {
   "cell_type": "code",
   "execution_count": 20,
   "metadata": {},
   "outputs": [],
   "source": [
    "\n",
    "SAVE_FOLDER = os.path.join(os.getcwd(), \"craw_data\")\n",
    "def get_montly_report(url):\n",
    "\tparsed_url = urlparse(url)\n",
    "\tquery = parse_qs(parsed_url.query)\n",
    "\treport_date = query['reportdate'][0]\n",
    "\tdocument = requests.get(url, timeout=30)\n",
    "\thtml_doc = document.content\n",
    "\tsoup = BeautifulSoup(html_doc, 'html.parser')\n",
    "\tsiteId_text = _get_siteId(soup)\n",
    "\tdf = _get_monthly_data(soup)\n",
    "\t# save it to csv file \n",
    "\toutfile_folfer = os.path.join(SAVE_FOLDER, report_date)\n",
    "\tif not os.path.exists(outfile_folfer):\n",
    "\t\tos.makedirs(outfile_folfer)\n",
    "\tdf.to_csv(os.path.join(outfile_folfer, siteId_text + \".csv\"))\n",
    "\n",
    "url = \"https://trafficdata.tii.ie/tfmonthreport.asp?sgid=XzOA8m4lr27P0HaO3_srSB&spid=256365229484&reportdate=2021-10-27&enddate=2021-10-27\"\n",
    "get_montly_report(url)\n"
   ]
  },
  {
   "cell_type": "code",
   "execution_count": 43,
   "metadata": {},
   "outputs": [
    {
     "data": {
      "text/plain": [
       "12"
      ]
     },
     "execution_count": 43,
     "metadata": {},
     "output_type": "execute_result"
    }
   ],
   "source": [
    "import random \n",
    "random.randint(5, 60)"
   ]
  },
  {
   "cell_type": "code",
   "execution_count": 1,
   "metadata": {},
   "outputs": [
    {
     "name": "stdout",
     "output_type": "stream",
     "text": [
      "Collecting yfinance\n",
      "  Downloading yfinance-0.1.64.tar.gz (26 kB)\n",
      "Requirement already satisfied: pandas>=0.24 in /home/minhnhat/python-env/analyse-movement/lib/python3.8/site-packages (from yfinance) (1.3.4)\n",
      "Requirement already satisfied: numpy>=1.15 in /home/minhnhat/python-env/analyse-movement/lib/python3.8/site-packages (from yfinance) (1.21.3)\n",
      "Requirement already satisfied: requests>=2.20 in /home/minhnhat/python-env/analyse-movement/lib/python3.8/site-packages (from yfinance) (2.26.0)\n",
      "Collecting multitasking>=0.0.7\n",
      "  Downloading multitasking-0.0.9.tar.gz (8.1 kB)\n",
      "Collecting lxml>=4.5.1\n",
      "  Downloading lxml-4.6.3-cp38-cp38-manylinux2014_x86_64.whl (6.8 MB)\n",
      "\u001b[K     |████████████████████████████████| 6.8 MB 6.1 MB/s \n",
      "\u001b[?25hRequirement already satisfied: pytz>=2017.3 in /home/minhnhat/python-env/analyse-movement/lib/python3.8/site-packages (from pandas>=0.24->yfinance) (2021.3)\n",
      "Requirement already satisfied: python-dateutil>=2.7.3 in /home/minhnhat/python-env/analyse-movement/lib/python3.8/site-packages (from pandas>=0.24->yfinance) (2.8.2)\n",
      "Requirement already satisfied: six>=1.5 in /home/minhnhat/python-env/analyse-movement/lib/python3.8/site-packages (from python-dateutil>=2.7.3->pandas>=0.24->yfinance) (1.16.0)\n",
      "Requirement already satisfied: urllib3<1.27,>=1.21.1 in /home/minhnhat/python-env/analyse-movement/lib/python3.8/site-packages (from requests>=2.20->yfinance) (1.26.7)\n",
      "Requirement already satisfied: certifi>=2017.4.17 in /home/minhnhat/python-env/analyse-movement/lib/python3.8/site-packages (from requests>=2.20->yfinance) (2021.10.8)\n",
      "Requirement already satisfied: idna<4,>=2.5 in /home/minhnhat/python-env/analyse-movement/lib/python3.8/site-packages (from requests>=2.20->yfinance) (3.3)\n",
      "Requirement already satisfied: charset-normalizer~=2.0.0 in /home/minhnhat/python-env/analyse-movement/lib/python3.8/site-packages (from requests>=2.20->yfinance) (2.0.7)\n",
      "Using legacy 'setup.py install' for yfinance, since package 'wheel' is not installed.\n",
      "Using legacy 'setup.py install' for multitasking, since package 'wheel' is not installed.\n",
      "Installing collected packages: multitasking, lxml, yfinance\n",
      "    Running setup.py install for multitasking ... \u001b[?25ldone\n",
      "\u001b[?25h    Running setup.py install for yfinance ... \u001b[?25ldone\n",
      "\u001b[?25hSuccessfully installed lxml-4.6.3 multitasking-0.0.9 yfinance-0.1.64\n",
      "\u001b[33mWARNING: You are using pip version 21.1.1; however, version 21.3.1 is available.\n",
      "You should consider upgrading via the '/home/minhnhat/python-env/analyse-movement/bin/python3 -m pip install --upgrade pip' command.\u001b[0m\n"
     ]
    }
   ],
   "source": [
    "!pip install yfinance"
   ]
  },
  {
   "cell_type": "code",
   "execution_count": 5,
   "metadata": {},
   "outputs": [
    {
     "ename": "TypeError",
     "evalue": "unsupported operand type(s) for +: 'int' and 'str'",
     "output_type": "error",
     "traceback": [
      "\u001b[0;31m---------------------------------------------------------------------------\u001b[0m",
      "\u001b[0;31mTypeError\u001b[0m                                 Traceback (most recent call last)",
      "\u001b[0;32m/tmp/ipykernel_18658/834096489.py\u001b[0m in \u001b[0;36m<module>\u001b[0;34m\u001b[0m\n\u001b[1;32m      4\u001b[0m \u001b[0;32mfor\u001b[0m \u001b[0mpart\u001b[0m \u001b[0;32min\u001b[0m \u001b[0mrange\u001b[0m\u001b[0;34m(\u001b[0m\u001b[0mnum_parts\u001b[0m\u001b[0;34m)\u001b[0m\u001b[0;34m:\u001b[0m\u001b[0;34m\u001b[0m\u001b[0;34m\u001b[0m\u001b[0m\n\u001b[1;32m      5\u001b[0m         \u001b[0;32mfor\u001b[0m \u001b[0mi\u001b[0m \u001b[0;32min\u001b[0m \u001b[0mres\u001b[0m\u001b[0;34m[\u001b[0m\u001b[0mpart\u001b[0m\u001b[0;34m*\u001b[0m\u001b[0;36m5\u001b[0m\u001b[0;34m:\u001b[0m \u001b[0;34m(\u001b[0m\u001b[0mpart\u001b[0m \u001b[0;34m+\u001b[0m \u001b[0;36m1\u001b[0m\u001b[0;34m)\u001b[0m\u001b[0;34m*\u001b[0m\u001b[0;36m5\u001b[0m\u001b[0;34m]\u001b[0m\u001b[0;34m:\u001b[0m\u001b[0;34m\u001b[0m\u001b[0;34m\u001b[0m\u001b[0m\n\u001b[0;32m----> 6\u001b[0;31m                 \u001b[0mprint\u001b[0m\u001b[0;34m(\u001b[0m\u001b[0mi\u001b[0m \u001b[0;34m+\u001b[0m \u001b[0;34m\" \"\u001b[0m\u001b[0;34m)\u001b[0m\u001b[0;34m\u001b[0m\u001b[0;34m\u001b[0m\u001b[0m\n\u001b[0m\u001b[1;32m      7\u001b[0m         \u001b[0mprint\u001b[0m\u001b[0;34m(\u001b[0m\u001b[0;34m'\\n'\u001b[0m\u001b[0;34m)\u001b[0m\u001b[0;34m\u001b[0m\u001b[0;34m\u001b[0m\u001b[0m\n",
      "\u001b[0;31mTypeError\u001b[0m: unsupported operand type(s) for +: 'int' and 'str'"
     ]
    }
   ],
   "source": [
    "res = list(range(11))\n",
    "n = 11\n",
    "num_parts = n // 5 + 1\n",
    "for part in range(num_parts):\n",
    "\tfor i in res[part*5: (part + 1)*5]:\n",
    "\t\tprint(i, \" \")\n",
    "\tprint('\\n')"
   ]
  },
  {
   "cell_type": "code",
   "execution_count": 2,
   "metadata": {},
   "outputs": [
    {
     "ename": "ModuleNotFoundError",
     "evalue": "No module named 'yfinance'",
     "output_type": "error",
     "traceback": [
      "\u001b[0;31m---------------------------------------------------------------------------\u001b[0m",
      "\u001b[0;31mModuleNotFoundError\u001b[0m                       Traceback (most recent call last)",
      "\u001b[0;32m/tmp/ipykernel_18658/2415575747.py\u001b[0m in \u001b[0;36m<module>\u001b[0;34m\u001b[0m\n\u001b[0;32m----> 1\u001b[0;31m \u001b[0;32mimport\u001b[0m \u001b[0myfinance\u001b[0m \u001b[0;32mas\u001b[0m \u001b[0myf\u001b[0m\u001b[0;34m\u001b[0m\u001b[0;34m\u001b[0m\u001b[0m\n\u001b[0m\u001b[1;32m      2\u001b[0m \u001b[0mstock_list\u001b[0m \u001b[0;34m=\u001b[0m \u001b[0;34m[\u001b[0m\u001b[0;34m'0005.HK'\u001b[0m\u001b[0;34m,\u001b[0m \u001b[0;34m'0006.HK'\u001b[0m\u001b[0;34m,\u001b[0m \u001b[0;34m'0066.HK'\u001b[0m\u001b[0;34m,\u001b[0m \u001b[0;34m'0700.HK'\u001b[0m\u001b[0;34m,\u001b[0m \u001b[0;34m'2800.HK'\u001b[0m\u001b[0;34m]\u001b[0m\u001b[0;34m\u001b[0m\u001b[0;34m\u001b[0m\u001b[0m\n\u001b[1;32m      3\u001b[0m \u001b[0mprint\u001b[0m\u001b[0;34m(\u001b[0m\u001b[0;34m'stock_list:'\u001b[0m\u001b[0;34m,\u001b[0m \u001b[0mstock_list\u001b[0m\u001b[0;34m)\u001b[0m\u001b[0;34m\u001b[0m\u001b[0;34m\u001b[0m\u001b[0m\n\u001b[1;32m      4\u001b[0m \u001b[0mdata\u001b[0m \u001b[0;34m=\u001b[0m \u001b[0myf\u001b[0m\u001b[0;34m.\u001b[0m\u001b[0mdownload\u001b[0m\u001b[0;34m(\u001b[0m\u001b[0mstock_list\u001b[0m\u001b[0;34m,\u001b[0m \u001b[0mstart\u001b[0m\u001b[0;34m=\u001b[0m\u001b[0;34m\"2020-01-01\"\u001b[0m\u001b[0;34m,\u001b[0m \u001b[0mend\u001b[0m\u001b[0;34m=\u001b[0m\u001b[0;34m\"2020-02-21\"\u001b[0m\u001b[0;34m)\u001b[0m\u001b[0;34m\u001b[0m\u001b[0;34m\u001b[0m\u001b[0m\n\u001b[1;32m      5\u001b[0m \u001b[0mprint\u001b[0m\u001b[0;34m(\u001b[0m\u001b[0;34m'data fields downloaded:'\u001b[0m\u001b[0;34m,\u001b[0m \u001b[0mset\u001b[0m\u001b[0;34m(\u001b[0m\u001b[0mdata\u001b[0m\u001b[0;34m.\u001b[0m\u001b[0mcolumns\u001b[0m\u001b[0;34m.\u001b[0m\u001b[0mget_level_values\u001b[0m\u001b[0;34m(\u001b[0m\u001b[0;36m0\u001b[0m\u001b[0;34m)\u001b[0m\u001b[0;34m)\u001b[0m\u001b[0;34m)\u001b[0m\u001b[0;34m\u001b[0m\u001b[0;34m\u001b[0m\u001b[0m\n",
      "\u001b[0;31mModuleNotFoundError\u001b[0m: No module named 'yfinance'"
     ]
    }
   ],
   "source": [
    "import yfinance as yf\n",
    "stock_list = ['0005.HK', '0006.HK', '0066.HK', '0700.HK', '2800.HK']\n",
    "print('stock_list:', stock_list)\n",
    "data = yf.download(stock_list, start=\"2020-01-01\", end=\"2020-02-21\")\n",
    "print('data fields downloaded:', set(data.columns.get_level_values(0)))\n",
    "data.head()"
   ]
  }
 ],
 "metadata": {
  "interpreter": {
   "hash": "d9cec51724db13000a11240b39289d197de67203a65051e9f24f52f072f23a20"
  },
  "kernelspec": {
   "display_name": "Python 3.8.12 64-bit ('base': conda)",
   "name": "python3"
  },
  "language_info": {
   "codemirror_mode": {
    "name": "ipython",
    "version": 3
   },
   "file_extension": ".py",
   "mimetype": "text/x-python",
   "name": "python",
   "nbconvert_exporter": "python",
   "pygments_lexer": "ipython3",
   "version": "3.8.12"
  },
  "orig_nbformat": 4
 },
 "nbformat": 4,
 "nbformat_minor": 2
}
