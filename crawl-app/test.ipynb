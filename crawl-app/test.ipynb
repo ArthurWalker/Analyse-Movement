{
 "cells": [
  {
   "cell_type": "code",
   "execution_count": 17,
   "metadata": {},
   "outputs": [],
   "source": [
    "import pandas as pd \n",
    "import requests \n",
    "from bs4 import BeautifulSoup\n",
    "from urllib.parse import urlparse, parse_qsl, urlunparse, urlencode\n",
    "import os \n"
   ]
  },
  {
   "cell_type": "code",
   "execution_count": null,
   "metadata": {},
   "outputs": [],
   "source": []
  },
  {
   "cell_type": "code",
   "execution_count": 4,
   "metadata": {},
   "outputs": [],
   "source": [
    "url = \"https://trafficdata.tii.ie/tfmonthreport.asp?sgid=XzOA8m4lr27P0HaO3_srSB&spid=256365229484&reportdate=2021-10-27&enddate=2021-10-27\"\n",
    "document = requests.get(url, timeout=30)\n",
    "html_doc = document.content\n",
    "soup = BeautifulSoup(html_doc, 'html.parser')"
   ]
  },
  {
   "cell_type": "code",
   "execution_count": 26,
   "metadata": {},
   "outputs": [
    {
     "name": "stdout",
     "output_type": "stream",
     "text": [
      "https://trafficdata.tii.ie/tfmonthreport.asp?sgid=XzOA8m4lr27P0HaO3_srSB&spid=256365229484&reportdate=2020-10-20\n"
     ]
    }
   ],
   "source": [
    "from requests.models import PreparedRequest\n",
    "url = \"https://trafficdata.tii.ie/tfmonthreport.asp?sgid=XzOA8m4lr27P0HaO3_srSB&spid=256365229484\"\n",
    "params = {'reportdate': '2020-10-20'}\n",
    "req = PreparedRequest()\n",
    "req.prepare_url(url, params)\n",
    "print(req.url)\n",
    "\n",
    "\n"
   ]
  },
  {
   "cell_type": "code",
   "execution_count": 16,
   "metadata": {},
   "outputs": [],
   "source": [
    "def _get_siteId(soup):\n",
    "\tsiteId_ele = soup.select('div#content #subtitlebar span')[1]\n",
    "\tsiteId_text = siteId_ele.text.split(\":\")[1].strip()\n",
    "\tsiteId_text = str(int(siteId_text))\n",
    "\treturn siteId_text\n"
   ]
  },
  {
   "cell_type": "code",
   "execution_count": 18,
   "metadata": {},
   "outputs": [],
   "source": [
    "def _get_monthly_data(soup):\n",
    "\tlist_tr_element = soup.select(\"table#gridTable tr\")\n",
    "\tcontent = []\n",
    "\tfor i in range(1, len(list_tr_element)):\n",
    "\t\ttr_element = list_tr_element[i]\n",
    "\t\tif i == 1:\n",
    "\t\t\t# header \n",
    "\t\t\tths = tr_element.select('th')\n",
    "\t\t\tfor j in range(len(ths)):\n",
    "\t\t\t\tcontent.append([ths[j].text])\n",
    "\t\telse:\n",
    "\t\t\ttds = tr_element.select('td')\n",
    "\t\t\tfor j in range(len(tds)):\n",
    "\t\t\t\tcontent[j].append(tds[j].text)\n",
    "\n",
    "\t# convert content to pandas dataframe\n",
    "\tdf = pd.DataFrame(content)\n",
    "\tdf = df.transpose()\n",
    "\tnew_header = df.iloc[0]\n",
    "\tdf = df[1:]\n",
    "\tdf.columns = new_header\n",
    "\n",
    "\tdf.index = df['Time']\n",
    "\tdf = df.drop(columns=['Time'], axis=1)\n",
    "\treturn df"
   ]
  },
  {
   "cell_type": "code",
   "execution_count": 20,
   "metadata": {},
   "outputs": [],
   "source": [
    "\n",
    "SAVE_FOLDER = os.path.join(os.getcwd(), \"craw_data\")\n",
    "def get_montly_report(url):\n",
    "\tparsed_url = urlparse(url)\n",
    "\tquery = parse_qs(parsed_url.query)\n",
    "\treport_date = query['reportdate'][0]\n",
    "\tdocument = requests.get(url, timeout=30)\n",
    "\thtml_doc = document.content\n",
    "\tsoup = BeautifulSoup(html_doc, 'html.parser')\n",
    "\tsiteId_text = _get_siteId(soup)\n",
    "\tdf = _get_monthly_data(soup)\n",
    "\t# save it to csv file \n",
    "\toutfile_folfer = os.path.join(SAVE_FOLDER, report_date)\n",
    "\tif not os.path.exists(outfile_folfer):\n",
    "\t\tos.makedirs(outfile_folfer)\n",
    "\tdf.to_csv(os.path.join(outfile_folfer, siteId_text + \".csv\"))\n",
    "\n",
    "url = \"https://trafficdata.tii.ie/tfmonthreport.asp?sgid=XzOA8m4lr27P0HaO3_srSB&spid=256365229484&reportdate=2021-10-27&enddate=2021-10-27\"\n",
    "get_montly_report(url)\n"
   ]
  }
 ],
 "metadata": {
  "interpreter": {
   "hash": "d9cec51724db13000a11240b39289d197de67203a65051e9f24f52f072f23a20"
  },
  "kernelspec": {
   "display_name": "Python 3.8.12 64-bit ('base': conda)",
   "name": "python3"
  },
  "language_info": {
   "codemirror_mode": {
    "name": "ipython",
    "version": 3
   },
   "file_extension": ".py",
   "mimetype": "text/x-python",
   "name": "python",
   "nbconvert_exporter": "python",
   "pygments_lexer": "ipython3",
   "version": "3.8.12"
  },
  "orig_nbformat": 4
 },
 "nbformat": 4,
 "nbformat_minor": 2
}
